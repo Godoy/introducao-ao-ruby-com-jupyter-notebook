{
 "cells": [
  {
   "cell_type": "markdown",
   "metadata": {},
   "source": [
    "# Ruby\n",
    "- Versão atual 2.4.1: https://www.ruby-lang.org/en/\n",
    "- Nos exemplos abaixo utilizaremos o *ruby 2.3.4*\n",
    "- Como ver a versão de Ruby atual: `ruby -v`\n",
    "- Instale o RVM para gerenciar as versões do ruby: https://rvm.io/\n",
    "- Como instalar o Jupyter notebook com kernel Ruby: https://github.com/SciRuby/iruby#mac\n",
    "\n",
    "Os códigos podem ser executados no terminal interativo do ruby, IRB, sem necessidade de instalar/configurar o Anaconda e Jupyter Notebook. Para tanto, digite `irb` no seu terminal para iniciar o interpretador."
   ]
  },
  {
   "cell_type": "markdown",
   "metadata": {},
   "source": [
    "**Imprimindo no console:**"
   ]
  },
  {
   "cell_type": "code",
   "execution_count": null,
   "metadata": {
    "scrolled": true
   },
   "outputs": [],
   "source": [
    "puts \"Olá!\"\n",
    "puts \"1\"\n",
    "puts 1\n",
    "puts [1,3,\"string\"]"
   ]
  },
  {
   "cell_type": "markdown",
   "metadata": {},
   "source": [
    "**A função `print` funciona de forma similar, mas não colocar o `\\n` ao final:**"
   ]
  },
  {
   "cell_type": "code",
   "execution_count": null,
   "metadata": {},
   "outputs": [],
   "source": [
    "print \"Olá!\"\n",
    "print \"1\"\n",
    "print 1\n",
    "print [1,3,\"string\"]"
   ]
  },
  {
   "cell_type": "markdown",
   "metadata": {},
   "source": [
    "**A função `p` já utiliza o inspect, sendo mais interessante para inspecionar o valor de uma variável, por exemplo:**"
   ]
  },
  {
   "cell_type": "code",
   "execution_count": null,
   "metadata": {},
   "outputs": [],
   "source": [
    "p \"1\"\n",
    "p 1\n",
    "p [1,3,\"string\"]"
   ]
  },
  {
   "cell_type": "markdown",
   "metadata": {},
   "source": [
    "**Todo objeto em ruby possui a função `methods`:**"
   ]
  },
  {
   "cell_type": "code",
   "execution_count": null,
   "metadata": {},
   "outputs": [],
   "source": [
    "2.methods"
   ]
  },
  {
   "cell_type": "markdown",
   "metadata": {},
   "source": [
    "**E tudo em ruby é um objeto 😝**"
   ]
  },
  {
   "cell_type": "code",
   "execution_count": null,
   "metadata": {},
   "outputs": [],
   "source": [
    "1.class"
   ]
  },
  {
   "cell_type": "code",
   "execution_count": null,
   "metadata": {},
   "outputs": [],
   "source": [
    "\"1\".class"
   ]
  },
  {
   "cell_type": "code",
   "execution_count": null,
   "metadata": {},
   "outputs": [],
   "source": [
    "puts 1.class\n",
    "puts 1.class.superclass\n",
    "puts 1.class.superclass.superclass"
   ]
  },
  {
   "cell_type": "code",
   "execution_count": null,
   "metadata": {},
   "outputs": [],
   "source": [
    "true.class"
   ]
  },
  {
   "cell_type": "code",
   "execution_count": null,
   "metadata": {},
   "outputs": [],
   "source": [
    "false.class"
   ]
  },
  {
   "cell_type": "markdown",
   "metadata": {},
   "source": [
    "# 😱"
   ]
  },
  {
   "cell_type": "code",
   "execution_count": null,
   "metadata": {},
   "outputs": [],
   "source": [
    "nil.class"
   ]
  },
  {
   "cell_type": "markdown",
   "metadata": {},
   "source": [
    "**Porque isso é fodástico!? Porque torna tudo muito simples e flexível!**\n",
    "\n",
    "**É possível fazer coisas como:**"
   ]
  },
  {
   "cell_type": "code",
   "execution_count": null,
   "metadata": {},
   "outputs": [],
   "source": [
    "2.times { print \"G\" }"
   ]
  },
  {
   "cell_type": "code",
   "execution_count": null,
   "metadata": {},
   "outputs": [],
   "source": [
    "1.upto(10) {|number| print number }"
   ]
  },
  {
   "cell_type": "code",
   "execution_count": null,
   "metadata": {},
   "outputs": [],
   "source": [
    "10.downto(1) {|x| print x}"
   ]
  },
  {
   "cell_type": "code",
   "execution_count": null,
   "metadata": {},
   "outputs": [],
   "source": [
    "3.step(45, 5) {|x| puts x}"
   ]
  },
  {
   "cell_type": "code",
   "execution_count": null,
   "metadata": {},
   "outputs": [],
   "source": [
    "string_lindamente_flexivel = \"Gol, \" * 4 + \"Gooooooooollllllllll\""
   ]
  },
  {
   "cell_type": "code",
   "execution_count": null,
   "metadata": {},
   "outputs": [],
   "source": [
    "string_lindamente_flexivel.reverse"
   ]
  },
  {
   "cell_type": "markdown",
   "metadata": {},
   "source": [
    "**String contém os métodos downcase, capitalize, upcase... Para saber mais, vá na documentação ou utilize o método `methods`:**"
   ]
  },
  {
   "cell_type": "code",
   "execution_count": null,
   "metadata": {},
   "outputs": [],
   "source": [
    "\"string\".methods"
   ]
  },
  {
   "cell_type": "markdown",
   "metadata": {},
   "source": [
    "### Iterações: Range (invervalos), Array, interpolação de strings:"
   ]
  },
  {
   "cell_type": "code",
   "execution_count": null,
   "metadata": {},
   "outputs": [],
   "source": [
    "bla = []\n",
    "for i in (3..7) do \n",
    "  bla << \"iterando #{i}\".upcase\n",
    "end\n",
    "\n",
    "bla.join(\", \")"
   ]
  },
  {
   "cell_type": "code",
   "execution_count": null,
   "metadata": {},
   "outputs": [],
   "source": [
    "array1 = [\"hello\", \"this\", \"is\", \"an\", \"array!\"]\n",
    "array2 = []\n",
    "array2 << array1.pop until array1.empty?\n",
    "\n",
    "p array1\n",
    "p array2"
   ]
  },
  {
   "cell_type": "code",
   "execution_count": null,
   "metadata": {},
   "outputs": [],
   "source": [
    "array1 = array2.reverse\n",
    "\n",
    "p array1\n",
    "p array2"
   ]
  },
  {
   "cell_type": "markdown",
   "metadata": {},
   "source": [
    "**Por convensão, métodos com ! causam uma mudança permanente ou potenciosamente perigosa, por exemplo aplicar a mudança ao próprio objeto ao invés de retornar um novo objeto.**"
   ]
  },
  {
   "cell_type": "code",
   "execution_count": null,
   "metadata": {},
   "outputs": [],
   "source": [
    "p array1\n",
    "array1.reverse!\n",
    "p array1"
   ]
  },
  {
   "cell_type": "markdown",
   "metadata": {},
   "source": [
    "**Métodos com ? retornam um booleano (também é apenas uma convensão)**"
   ]
  },
  {
   "cell_type": "code",
   "execution_count": null,
   "metadata": {},
   "outputs": [],
   "source": [
    "a = \"\"\n",
    "puts \"string vazia\" if a.empty?"
   ]
  },
  {
   "cell_type": "markdown",
   "metadata": {},
   "source": [
    "## Hash"
   ]
  },
  {
   "cell_type": "code",
   "execution_count": null,
   "metadata": {},
   "outputs": [],
   "source": [
    "hash = { :goleira => \"Maria\", :atacante => \"Marta\", :zagueira => \"Mariane\"}\n",
    "hash.each do |key, value|\n",
    "  puts value\n",
    "end"
   ]
  },
  {
   "cell_type": "markdown",
   "metadata": {},
   "source": [
    "## Classes"
   ]
  },
  {
   "cell_type": "code",
   "execution_count": null,
   "metadata": {},
   "outputs": [],
   "source": [
    "class MinhaClasse\n",
    "  attr_accessor :hora_do_silvio # attr_reader\n",
    "\n",
    "  def initialize\n",
    "    puts \"no construtor...\"\n",
    "    \n",
    "    self.hora_do_silvio = \"Olá default\"\n",
    "    @momento_construtor = Time.now\n",
    "  end\n",
    "  \n",
    "  def atualiza_hora_do_silvio\n",
    "    self.hora_do_silvio = \"Má ôi.. são #{@momento_construtor}\"\n",
    "  end\n",
    "  \n",
    "  def to_s\n",
    "    # objeto Cumprimentador num formato bonito \n",
    "    \"objeto de MinhaClasse {#{self.hora_do_silvio}}\"\n",
    "  end\n",
    "end\n",
    "\n",
    "olar = MinhaClasse.new\n",
    "puts olar"
   ]
  },
  {
   "cell_type": "code",
   "execution_count": null,
   "metadata": {},
   "outputs": [],
   "source": [
    "olar.hora_do_silvio"
   ]
  },
  {
   "cell_type": "code",
   "execution_count": null,
   "metadata": {},
   "outputs": [],
   "source": [
    "olar.atualiza_hora_do_silvio"
   ]
  },
  {
   "cell_type": "code",
   "execution_count": null,
   "metadata": {},
   "outputs": [],
   "source": [
    "class OutraClasse < MinhaClasse\n",
    "  @@atributo_estatico = \"Valor estatico\"\n",
    "  \n",
    "  def to_s\n",
    "    \"objeto de OutraClasse chamando #{metodo_privado}\"\n",
    "  end\n",
    "  \n",
    "  def self.puts_metodo_estatico\n",
    "    puts \"Valor do atributo estatico: #{@@atributo_estatico}\"\n",
    "  end\n",
    "  \n",
    "  protected\n",
    "  def metodo_protected\n",
    "    \n",
    "  end\n",
    "  \n",
    "  def outro_medodo_protected\n",
    "    \n",
    "  end\n",
    "  \n",
    "  private \n",
    "  def metodo_privado\n",
    "    \"metodo privado\"\n",
    "  end\n",
    "end\n",
    "\n",
    "outro_objeto = OutraClasse.new\n",
    "puts outro_objeto"
   ]
  },
  {
   "cell_type": "code",
   "execution_count": null,
   "metadata": {},
   "outputs": [],
   "source": [
    "outro_objeto.atualiza_hora_do_silvio"
   ]
  },
  {
   "cell_type": "code",
   "execution_count": null,
   "metadata": {},
   "outputs": [],
   "source": [
    "OutraClasse.puts_metodo_estatico"
   ]
  },
  {
   "cell_type": "markdown",
   "metadata": {},
   "source": [
    "## ActiveSupport"
   ]
  },
  {
   "cell_type": "code",
   "execution_count": null,
   "metadata": {},
   "outputs": [],
   "source": [
    "require 'active_support'\n",
    "require 'active_support/core_ext'"
   ]
  },
  {
   "cell_type": "markdown",
   "metadata": {},
   "source": [
    "**Numeric e Integer**"
   ]
  },
  {
   "cell_type": "code",
   "execution_count": null,
   "metadata": {},
   "outputs": [],
   "source": [
    "puts 2.kilobytes   # => 2048\n",
    "puts 1.megabytes "
   ]
  },
  {
   "cell_type": "code",
   "execution_count": null,
   "metadata": {},
   "outputs": [],
   "source": [
    "puts 8.multiple_of?(2)\n",
    "puts 3.multiple_of?(4)"
   ]
  },
  {
   "cell_type": "code",
   "execution_count": null,
   "metadata": {},
   "outputs": [],
   "source": [
    "puts 1.ordinal\n",
    "puts 2.ordinal"
   ]
  },
  {
   "cell_type": "markdown",
   "metadata": {},
   "source": [
    "**Time e Datetime**"
   ]
  },
  {
   "cell_type": "code",
   "execution_count": null,
   "metadata": {},
   "outputs": [],
   "source": [
    "puts 1.month.from_now\n",
    " \n",
    "puts 2.years.from_now\n",
    " \n",
    "# equivalente a Time.current.advance(months: 4, years: 5)\n",
    "puts (4.months + 5.years).from_now"
   ]
  },
  {
   "cell_type": "code",
   "execution_count": null,
   "metadata": {},
   "outputs": [],
   "source": [
    "hoje = Time.now\n",
    "puts \"Ontem foi dia #{hoje.yesterday.day}\""
   ]
  },
  {
   "cell_type": "markdown",
   "metadata": {},
   "source": [
    "**Array**"
   ]
  },
  {
   "cell_type": "code",
   "execution_count": null,
   "metadata": {},
   "outputs": [],
   "source": [
    "t = [\"AAA\", \"BBB\", \"CCC\", \"DDD\"]\n",
    "puts t.third\n",
    "puts t.first"
   ]
  },
  {
   "cell_type": "code",
   "execution_count": null,
   "metadata": {},
   "outputs": [],
   "source": [
    "t.in_groups_of(2) do |a, b|\n",
    "  puts \"a: #{a}, b: #{b}\"\n",
    "end"
   ]
  },
  {
   "cell_type": "markdown",
   "metadata": {},
   "source": [
    "**Range**"
   ]
  },
  {
   "cell_type": "code",
   "execution_count": null,
   "metadata": {},
   "outputs": [],
   "source": [
    "puts (1..10).include?(3..7)  \n",
    "puts (1..10).include?(0..7)  \n",
    "puts (1..10).include?(3..11) "
   ]
  },
  {
   "cell_type": "markdown",
   "metadata": {},
   "source": [
    "## Próximos passos\n",
    "- Path de Ruby com 10 cursos: https://www.codeschool.com/learn/ruby\n",
    "- Rails!!\n"
   ]
  },
  {
   "cell_type": "code",
   "execution_count": null,
   "metadata": {
    "collapsed": true
   },
   "outputs": [],
   "source": []
  }
 ],
 "metadata": {
  "kernelspec": {
   "display_name": "Ruby 2.3.4",
   "language": "ruby",
   "name": "ruby"
  },
  "language_info": {
   "file_extension": ".rb",
   "mimetype": "application/x-ruby",
   "name": "ruby",
   "version": "2.3.4"
  }
 },
 "nbformat": 4,
 "nbformat_minor": 2
}

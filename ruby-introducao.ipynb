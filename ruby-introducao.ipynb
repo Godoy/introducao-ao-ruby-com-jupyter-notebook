{
 "cells": [
  {
   "cell_type": "markdown",
   "metadata": {},
   "source": [
    "# Ruby\n",
    "- Versão atual é 2.4.1: https://www.ruby-lang.org/en/\n",
    "- Nos exemplos abaixo utilizaremos o *ruby 2.3.4*\n",
    "- Como ver a versão de Ruby atual: `ruby -v`\n",
    "- Instale o RVM para gerenciar as versões do ruby: https://rvm.io/\n",
    "- Como instalar o Jupyter notebook com kernel Ruby: https://github.com/SciRuby/iruby#mac\n",
    "\n",
    "Os códigos podem ser executados no terminal interativo do ruby, IRB, sem necessidade de instalar/configurar o Anaconda e Jupyter Notebook. Para tanto, digite `irb` no seu terminal para iniciar o interpretador.\n",
    "\n"
   ]
  },
  {
   "cell_type": "code",
   "execution_count": null,
   "metadata": {},
   "outputs": [],
   "source": [
    "puts \"Olá!\""
   ]
  },
  {
   "cell_type": "code",
   "execution_count": null,
   "metadata": {
    "collapsed": true
   },
   "outputs": [],
   "source": []
  }
 ],
 "metadata": {
  "kernelspec": {
   "display_name": "Ruby 2.3.4",
   "language": "ruby",
   "name": "ruby"
  },
  "language_info": {
   "file_extension": ".rb",
   "mimetype": "application/x-ruby",
   "name": "ruby",
   "version": "2.3.4"
  }
 },
 "nbformat": 4,
 "nbformat_minor": 2
}
